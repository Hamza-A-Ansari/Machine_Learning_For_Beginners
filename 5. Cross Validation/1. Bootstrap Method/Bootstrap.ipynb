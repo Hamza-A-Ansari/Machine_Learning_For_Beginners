{
 "cells": [
  {
   "cell_type": "markdown",
   "id": "4938aaa4",
   "metadata": {},
   "source": [
    "# Bootstrap Method"
   ]
  },
  {
   "cell_type": "code",
   "execution_count": 1,
   "id": "f2ec284f",
   "metadata": {},
   "outputs": [
    {
     "name": "stdout",
     "output_type": "stream",
     "text": [
      "Bootstrap Sample: [6, 4, 5, 1]\n",
      "OOB Sample: [2, 3]\n"
     ]
    }
   ],
   "source": [
    "from sklearn.utils import resample\n",
    "\n",
    "data = [1, 2, 3, 4, 5, 6]\n",
    "\n",
    "outputBoot_resample = resample(data, replace=True, n_samples=4, random_state=1)\n",
    "print('Bootstrap Sample: %s' % outputBoot_resample)\n",
    "\n",
    "result = [x for x in data if x not in outputBoot_resample]\n",
    "print('OOB Sample: %s' % result)"
   ]
  },
  {
   "cell_type": "code",
   "execution_count": null,
   "id": "96591bc7",
   "metadata": {},
   "outputs": [],
   "source": []
  }
 ],
 "metadata": {
  "kernelspec": {
   "display_name": "Python 3",
   "language": "python",
   "name": "python3"
  },
  "language_info": {
   "codemirror_mode": {
    "name": "ipython",
    "version": 3
   },
   "file_extension": ".py",
   "mimetype": "text/x-python",
   "name": "python",
   "nbconvert_exporter": "python",
   "pygments_lexer": "ipython3",
   "version": "3.8.8"
  }
 },
 "nbformat": 4,
 "nbformat_minor": 5
}
