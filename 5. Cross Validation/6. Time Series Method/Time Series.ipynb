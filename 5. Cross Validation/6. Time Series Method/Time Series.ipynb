{
 "cells": [
  {
   "cell_type": "markdown",
   "id": "1038b504",
   "metadata": {},
   "source": [
    "# Time Series Method"
   ]
  },
  {
   "cell_type": "code",
   "execution_count": 3,
   "id": "774649d6",
   "metadata": {},
   "outputs": [],
   "source": [
    "# Import necessary libraries\n",
    "import numpy as np\n",
    "from sklearn.model_selection import TimeSeriesSplit"
   ]
  },
  {
   "cell_type": "code",
   "execution_count": 4,
   "id": "1b4213ce",
   "metadata": {},
   "outputs": [],
   "source": [
    "# Create Dependent and Independent Variables\n",
    "X = np.array([[1, 2], [3, 4], [1, 2], [3, 4], [1, 2], [3, 4]])\n",
    "y = np.array([1, 2, 3, 4, 5, 6])"
   ]
  },
  {
   "cell_type": "code",
   "execution_count": 5,
   "id": "36861427",
   "metadata": {},
   "outputs": [
    {
     "name": "stdout",
     "output_type": "stream",
     "text": [
      "TimeSeriesSplit(gap=0, max_train_size=None, n_splits=3, test_size=None)\n"
     ]
    }
   ],
   "source": [
    "# Create Time Series object\n",
    "tscv = TimeSeriesSplit(n_splits=3,max_train_size= None)\n",
    "print(tscv)  "
   ]
  },
  {
   "cell_type": "code",
   "execution_count": 6,
   "id": "1ba10d7f",
   "metadata": {},
   "outputs": [
    {
     "name": "stdout",
     "output_type": "stream",
     "text": [
      "[0 1 2] [3]\n",
      "[0 1 2 3] [4]\n",
      "[0 1 2 3 4] [5]\n"
     ]
    }
   ],
   "source": [
    "for train, test in tscv.split(X):\n",
    "    print(\"%s %s\" % (train, test))  "
   ]
  },
  {
   "cell_type": "code",
   "execution_count": null,
   "id": "1a7ac7ae",
   "metadata": {},
   "outputs": [],
   "source": []
  }
 ],
 "metadata": {
  "kernelspec": {
   "display_name": "Python 3",
   "language": "python",
   "name": "python3"
  },
  "language_info": {
   "codemirror_mode": {
    "name": "ipython",
    "version": 3
   },
   "file_extension": ".py",
   "mimetype": "text/x-python",
   "name": "python",
   "nbconvert_exporter": "python",
   "pygments_lexer": "ipython3",
   "version": "3.8.8"
  }
 },
 "nbformat": 4,
 "nbformat_minor": 5
}
