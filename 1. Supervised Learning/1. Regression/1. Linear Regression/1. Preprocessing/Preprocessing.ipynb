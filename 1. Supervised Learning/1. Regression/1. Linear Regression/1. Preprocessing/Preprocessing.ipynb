{
 "cells": [
  {
   "cell_type": "markdown",
   "id": "f24c2179",
   "metadata": {},
   "source": [
    "# Data Preprocessing"
   ]
  },
  {
   "cell_type": "code",
   "execution_count": 1,
   "id": "ef1ef79d",
   "metadata": {},
   "outputs": [],
   "source": [
    "# Import necessary Libraries\n",
    "import pandas as pd\n",
    "import numpy as np\n",
    "import matplotlib.pyplot as plt"
   ]
  },
  {
   "cell_type": "code",
   "execution_count": 2,
   "id": "6b55bae6",
   "metadata": {},
   "outputs": [],
   "source": [
    "#Import the dataset\n",
    "dataset = pd.read_csv('DataSet.csv')"
   ]
  },
  {
   "cell_type": "code",
   "execution_count": 3,
   "id": "12950897",
   "metadata": {},
   "outputs": [
    {
     "data": {
      "text/html": [
       "<div>\n",
       "<style scoped>\n",
       "    .dataframe tbody tr th:only-of-type {\n",
       "        vertical-align: middle;\n",
       "    }\n",
       "\n",
       "    .dataframe tbody tr th {\n",
       "        vertical-align: top;\n",
       "    }\n",
       "\n",
       "    .dataframe thead th {\n",
       "        text-align: right;\n",
       "    }\n",
       "</style>\n",
       "<table border=\"1\" class=\"dataframe\">\n",
       "  <thead>\n",
       "    <tr style=\"text-align: right;\">\n",
       "      <th></th>\n",
       "      <th>Developer</th>\n",
       "      <th>Age</th>\n",
       "      <th>Salary</th>\n",
       "      <th>Married</th>\n",
       "    </tr>\n",
       "  </thead>\n",
       "  <tbody>\n",
       "    <tr>\n",
       "      <th>0</th>\n",
       "      <td>Karachi</td>\n",
       "      <td>42.0</td>\n",
       "      <td>78000.0</td>\n",
       "      <td>No</td>\n",
       "    </tr>\n",
       "    <tr>\n",
       "      <th>1</th>\n",
       "      <td>Lahore</td>\n",
       "      <td>32.0</td>\n",
       "      <td>48000.0</td>\n",
       "      <td>Yes</td>\n",
       "    </tr>\n",
       "    <tr>\n",
       "      <th>2</th>\n",
       "      <td>Karachi</td>\n",
       "      <td>36.0</td>\n",
       "      <td>60000.0</td>\n",
       "      <td>No</td>\n",
       "    </tr>\n",
       "    <tr>\n",
       "      <th>3</th>\n",
       "      <td>Multan</td>\n",
       "      <td>41.0</td>\n",
       "      <td>68000.0</td>\n",
       "      <td>No</td>\n",
       "    </tr>\n",
       "    <tr>\n",
       "      <th>4</th>\n",
       "      <td>Lahore</td>\n",
       "      <td>42.0</td>\n",
       "      <td>NaN</td>\n",
       "      <td>Yes</td>\n",
       "    </tr>\n",
       "    <tr>\n",
       "      <th>5</th>\n",
       "      <td>Multan</td>\n",
       "      <td>43.0</td>\n",
       "      <td>59000.0</td>\n",
       "      <td>Yes</td>\n",
       "    </tr>\n",
       "    <tr>\n",
       "      <th>6</th>\n",
       "      <td>Karachi</td>\n",
       "      <td>NaN</td>\n",
       "      <td>59000.0</td>\n",
       "      <td>No</td>\n",
       "    </tr>\n",
       "    <tr>\n",
       "      <th>7</th>\n",
       "      <td>Lahore</td>\n",
       "      <td>44.0</td>\n",
       "      <td>79000.0</td>\n",
       "      <td>Yes</td>\n",
       "    </tr>\n",
       "    <tr>\n",
       "      <th>8</th>\n",
       "      <td>Multan</td>\n",
       "      <td>52.0</td>\n",
       "      <td>99000.0</td>\n",
       "      <td>No</td>\n",
       "    </tr>\n",
       "    <tr>\n",
       "      <th>9</th>\n",
       "      <td>Lahore</td>\n",
       "      <td>32.0</td>\n",
       "      <td>69000.0</td>\n",
       "      <td>Yes</td>\n",
       "    </tr>\n",
       "  </tbody>\n",
       "</table>\n",
       "</div>"
      ],
      "text/plain": [
       "  Developer   Age   Salary Married\n",
       "0   Karachi  42.0  78000.0      No\n",
       "1    Lahore  32.0  48000.0     Yes\n",
       "2   Karachi  36.0  60000.0      No\n",
       "3    Multan  41.0  68000.0      No\n",
       "4    Lahore  42.0      NaN     Yes\n",
       "5    Multan  43.0  59000.0     Yes\n",
       "6   Karachi   NaN  59000.0      No\n",
       "7    Lahore  44.0  79000.0     Yes\n",
       "8    Multan  52.0  99000.0      No\n",
       "9    Lahore  32.0  69000.0     Yes"
      ]
     },
     "execution_count": 3,
     "metadata": {},
     "output_type": "execute_result"
    }
   ],
   "source": [
    "dataset"
   ]
  },
  {
   "cell_type": "code",
   "execution_count": 7,
   "id": "c8c2104d",
   "metadata": {},
   "outputs": [],
   "source": [
    "X=dataset.iloc[:,:-1].values\n",
    "\n",
    "y = dataset.iloc[:, 3]"
   ]
  },
  {
   "cell_type": "code",
   "execution_count": 10,
   "id": "f80510b3",
   "metadata": {},
   "outputs": [],
   "source": [
    "#Missing Value Handling by MEAN\n",
    "\n",
    "from sklearn.impute import SimpleImputer\n",
    "\n",
    "imputer =SimpleImputer(missing_values=np.nan, strategy='mean')\n",
    "\n",
    "imputer=imputer.fit(X[:,1:3])\n",
    "\n",
    "X[:,1:3]= imputer.transform(X[:,1:3])\n",
    "\n",
    "# You can also handle missing values by median & most_frequent"
   ]
  },
  {
   "cell_type": "code",
   "execution_count": 11,
   "id": "af35cd5c",
   "metadata": {},
   "outputs": [
    {
     "data": {
      "text/plain": [
       "array([[42.0, 78000.0],\n",
       "       [32.0, 48000.0],\n",
       "       [36.0, 60000.0],\n",
       "       [41.0, 68000.0],\n",
       "       [42.0, 68777.77777777778],\n",
       "       [43.0, 59000.0],\n",
       "       [40.44444444444444, 59000.0],\n",
       "       [44.0, 79000.0],\n",
       "       [52.0, 99000.0],\n",
       "       [32.0, 69000.0]], dtype=object)"
      ]
     },
     "execution_count": 11,
     "metadata": {},
     "output_type": "execute_result"
    }
   ],
   "source": [
    "X[:,1:3]"
   ]
  },
  {
   "cell_type": "code",
   "execution_count": 13,
   "id": "b172fc2d",
   "metadata": {},
   "outputs": [],
   "source": [
    "#Concept of Dummy Variable, Handling the conflict of them\n",
    "\n",
    "from sklearn.preprocessing import LabelEncoder, OneHotEncoder\n",
    "\n",
    "labelencoder_X = LabelEncoder()\n",
    "\n",
    "X[:,0]=labelencoder_X.fit_transform(X[:,0])\n",
    "\n",
    "onehotencoder=OneHotEncoder()\n",
    "\n",
    "X=onehotencoder.fit_transform(X).toarray()"
   ]
  },
  {
   "cell_type": "code",
   "execution_count": 15,
   "id": "820f8d58",
   "metadata": {},
   "outputs": [
    {
     "data": {
      "text/plain": [
       "array([[1., 0., 0., 0., 0., 0., 0., 1., 0., 0., 0., 0., 0., 0., 0., 0.,\n",
       "        0., 1., 0., 0.],\n",
       "       [0., 1., 0., 1., 0., 0., 0., 0., 0., 0., 0., 1., 0., 0., 0., 0.,\n",
       "        0., 0., 0., 0.],\n",
       "       [1., 0., 0., 0., 1., 0., 0., 0., 0., 0., 0., 0., 0., 1., 0., 0.,\n",
       "        0., 0., 0., 0.],\n",
       "       [0., 0., 1., 0., 0., 0., 1., 0., 0., 0., 0., 0., 0., 0., 1., 0.,\n",
       "        0., 0., 0., 0.],\n",
       "       [0., 1., 0., 0., 0., 0., 0., 1., 0., 0., 0., 0., 0., 0., 0., 1.,\n",
       "        0., 0., 0., 0.],\n",
       "       [0., 0., 1., 0., 0., 0., 0., 0., 1., 0., 0., 0., 1., 0., 0., 0.,\n",
       "        0., 0., 0., 0.],\n",
       "       [1., 0., 0., 0., 0., 1., 0., 0., 0., 0., 0., 0., 1., 0., 0., 0.,\n",
       "        0., 0., 0., 0.],\n",
       "       [0., 1., 0., 0., 0., 0., 0., 0., 0., 1., 0., 0., 0., 0., 0., 0.,\n",
       "        0., 0., 1., 0.],\n",
       "       [0., 0., 1., 0., 0., 0., 0., 0., 0., 0., 1., 0., 0., 0., 0., 0.,\n",
       "        0., 0., 0., 1.],\n",
       "       [0., 1., 0., 1., 0., 0., 0., 0., 0., 0., 0., 0., 0., 0., 0., 0.,\n",
       "        1., 0., 0., 0.]])"
      ]
     },
     "execution_count": 15,
     "metadata": {},
     "output_type": "execute_result"
    }
   ],
   "source": [
    "X"
   ]
  },
  {
   "cell_type": "code",
   "execution_count": 16,
   "id": "35e17415",
   "metadata": {},
   "outputs": [],
   "source": [
    "#Training and Testing Data (divide the data into two part)\n",
    "\n",
    "from sklearn.model_selection import train_test_split\n",
    "\n",
    "X_train, X_test, y_train, y_test =train_test_split(X,y,test_size=0.2, random_state=0)"
   ]
  },
  {
   "cell_type": "code",
   "execution_count": 17,
   "id": "f6c05950",
   "metadata": {},
   "outputs": [],
   "source": [
    "#Standard and fit the data for better predication \n",
    "\n",
    "from sklearn.preprocessing import StandardScaler\n",
    "\n",
    "sc_X=StandardScaler()\n",
    "\n",
    "X_test=sc_X.fit_transform(X_test)\n",
    "\n",
    "\n",
    "X_train=sc_X.fit_transform(X_train)"
   ]
  },
  {
   "cell_type": "code",
   "execution_count": 18,
   "id": "b9146257",
   "metadata": {},
   "outputs": [
    {
     "data": {
      "text/plain": [
       "array([[-0.57735027,  1.        , -0.57735027, -0.57735027,  0.        ,\n",
       "        -0.37796447, -0.37796447,  1.73205081, -0.37796447, -0.37796447,\n",
       "         0.        , -0.37796447, -0.57735027,  0.        , -0.37796447,\n",
       "         2.64575131, -0.37796447, -0.37796447, -0.37796447,  0.        ],\n",
       "       [-0.57735027,  1.        , -0.57735027,  1.73205081,  0.        ,\n",
       "        -0.37796447, -0.37796447, -0.57735027, -0.37796447, -0.37796447,\n",
       "         0.        , -0.37796447, -0.57735027,  0.        , -0.37796447,\n",
       "        -0.37796447,  2.64575131, -0.37796447, -0.37796447,  0.        ],\n",
       "       [-0.57735027,  1.        , -0.57735027,  1.73205081,  0.        ,\n",
       "        -0.37796447, -0.37796447, -0.57735027, -0.37796447, -0.37796447,\n",
       "         0.        ,  2.64575131, -0.57735027,  0.        , -0.37796447,\n",
       "        -0.37796447, -0.37796447, -0.37796447, -0.37796447,  0.        ],\n",
       "       [ 1.73205081, -1.        , -0.57735027, -0.57735027,  0.        ,\n",
       "         2.64575131, -0.37796447, -0.57735027, -0.37796447, -0.37796447,\n",
       "         0.        , -0.37796447,  1.73205081,  0.        , -0.37796447,\n",
       "        -0.37796447, -0.37796447, -0.37796447, -0.37796447,  0.        ],\n",
       "       [-0.57735027,  1.        , -0.57735027, -0.57735027,  0.        ,\n",
       "        -0.37796447, -0.37796447, -0.57735027, -0.37796447,  2.64575131,\n",
       "         0.        , -0.37796447, -0.57735027,  0.        , -0.37796447,\n",
       "        -0.37796447, -0.37796447, -0.37796447,  2.64575131,  0.        ],\n",
       "       [-0.57735027, -1.        ,  1.73205081, -0.57735027,  0.        ,\n",
       "        -0.37796447,  2.64575131, -0.57735027, -0.37796447, -0.37796447,\n",
       "         0.        , -0.37796447, -0.57735027,  0.        ,  2.64575131,\n",
       "        -0.37796447, -0.37796447, -0.37796447, -0.37796447,  0.        ],\n",
       "       [ 1.73205081, -1.        , -0.57735027, -0.57735027,  0.        ,\n",
       "        -0.37796447, -0.37796447,  1.73205081, -0.37796447, -0.37796447,\n",
       "         0.        , -0.37796447, -0.57735027,  0.        , -0.37796447,\n",
       "        -0.37796447, -0.37796447,  2.64575131, -0.37796447,  0.        ],\n",
       "       [-0.57735027, -1.        ,  1.73205081, -0.57735027,  0.        ,\n",
       "        -0.37796447, -0.37796447, -0.57735027,  2.64575131, -0.37796447,\n",
       "         0.        , -0.37796447,  1.73205081,  0.        , -0.37796447,\n",
       "        -0.37796447, -0.37796447, -0.37796447, -0.37796447,  0.        ]])"
      ]
     },
     "execution_count": 18,
     "metadata": {},
     "output_type": "execute_result"
    }
   ],
   "source": [
    "X_train"
   ]
  },
  {
   "cell_type": "code",
   "execution_count": 19,
   "id": "21357b3d",
   "metadata": {},
   "outputs": [
    {
     "data": {
      "text/plain": [
       "array([[ 1.,  0., -1.,  0.,  1.,  0.,  0.,  0.,  0.,  0., -1.,  0.,  0.,\n",
       "         1.,  0.,  0.,  0.,  0.,  0., -1.],\n",
       "       [-1.,  0.,  1.,  0., -1.,  0.,  0.,  0.,  0.,  0.,  1.,  0.,  0.,\n",
       "        -1.,  0.,  0.,  0.,  0.,  0.,  1.]])"
      ]
     },
     "execution_count": 19,
     "metadata": {},
     "output_type": "execute_result"
    }
   ],
   "source": [
    "X_test"
   ]
  },
  {
   "cell_type": "code",
   "execution_count": null,
   "id": "91218c23",
   "metadata": {},
   "outputs": [],
   "source": []
  }
 ],
 "metadata": {
  "kernelspec": {
   "display_name": "Python 3",
   "language": "python",
   "name": "python3"
  },
  "language_info": {
   "codemirror_mode": {
    "name": "ipython",
    "version": 3
   },
   "file_extension": ".py",
   "mimetype": "text/x-python",
   "name": "python",
   "nbconvert_exporter": "python",
   "pygments_lexer": "ipython3",
   "version": "3.8.8"
  }
 },
 "nbformat": 4,
 "nbformat_minor": 5
}
